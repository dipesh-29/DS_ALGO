{
 "cells": [
  {
   "cell_type": "code",
   "execution_count": 3,
   "id": "80ab8484-0eb2-4fcb-8ce2-8bcacda374eb",
   "metadata": {},
   "outputs": [
    {
     "name": "stdout",
     "output_type": "stream",
     "text": [
      "[2, 5, 2]\n",
      "[5, 7, 9]\n"
     ]
    }
   ],
   "source": [
    "import heapq\n",
    "\n",
    "def maxSubsequence(nums, k):\n",
    "    heap = []\n",
    "    for index in range(k):\n",
    "        heapq.heappush(heap,nums[index])\n",
    "    print(heap)\n",
    "        \n",
    "    for index in range(k,len(nums)):\n",
    "        if nums[index] > heap[0]:\n",
    "            heapq.heapreplace(heap,nums[index])\n",
    "    \n",
    "    result = []\n",
    "    for index in range(len(nums)):\n",
    "        if nums[index] in heap:\n",
    "            heap.remove(nums[index])\n",
    "            result.append(nums[index])\n",
    "    return result\n",
    "\n",
    "nums = [2,5,2,7,9,2]\n",
    "k = 3\n",
    "x = maxSubsequence(nums, k)\n",
    "print(x)"
   ]
  },
  {
   "cell_type": "code",
   "execution_count": null,
   "id": "7fbbe915-9d42-44ed-b02d-fd73de391ef4",
   "metadata": {},
   "outputs": [],
   "source": []
  }
 ],
 "metadata": {
  "kernelspec": {
   "display_name": "Python 3 (ipykernel)",
   "language": "python",
   "name": "python3"
  },
  "language_info": {
   "codemirror_mode": {
    "name": "ipython",
    "version": 3
   },
   "file_extension": ".py",
   "mimetype": "text/x-python",
   "name": "python",
   "nbconvert_exporter": "python",
   "pygments_lexer": "ipython3",
   "version": "3.9.6"
  }
 },
 "nbformat": 4,
 "nbformat_minor": 5
}
