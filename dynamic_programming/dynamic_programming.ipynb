{
 "cells": [
  {
   "cell_type": "markdown",
   "id": "c196e183-f00d-4ee5-b87f-9bd6ee09800f",
   "metadata": {},
   "source": [
    "# Dynamic Programming :"
   ]
  },
  {
   "cell_type": "code",
   "execution_count": 11,
   "id": "c4b68a69-6771-4c34-a675-e54e94957a93",
   "metadata": {},
   "outputs": [
    {
     "name": "stdout",
     "output_type": "stream",
     "text": [
      "10946\n",
      "10946\n",
      "[1, 1, 2, 3, 5, 8, 13, 21, 34, 55, 89, 144, 233, 377, 610, 987, 1597, 2584, 4181, 6765, 10946]\n"
     ]
    }
   ],
   "source": [
    "'''\n",
    "Q1. Climbing Stairs: / Fabonacci Series\n",
    "You are climbing a staircase. It takes n steps to reach the top.\n",
    "\n",
    "Each time you can either climb 1 or 2 steps. In how many distinct ways can you climb to the top?\n",
    "'''\n",
    "def climbing_stairs_recursive(n):\n",
    "    if n == 1:\n",
    "        return 1\n",
    "    if n == 2:\n",
    "        return 2\n",
    "    return climbing_stairs_recursive(n-1) + climbing_stairs_recursive(n-2)\n",
    "\n",
    "print(climbing_stairs_recursive(20))\n",
    "\n",
    "def climbing_stairs_iterative(n):\n",
    "    if n == 1:\n",
    "        return 1\n",
    "    if n == 2:\n",
    "        return 2\n",
    "    dp = [1,2]\n",
    "    for i in range(2, n):\n",
    "        dp[i] = dp[i-1] + dp[i-2]\n",
    "    return dp[-1]\n",
    "    \n",
    "print(climbing_stairs_recursive(20))\n",
    "\n",
    "'''\n",
    "Given n retrun fabonacci series of length n.\n",
    "'''\n",
    "def fabonacci_series_length_n(n):\n",
    "    dp = []\n",
    "    for i in range(n+1):\n",
    "        if i == 0:\n",
    "            dp.append(1)\n",
    "        elif i == 1:\n",
    "            dp.append(1)\n",
    "        elif i == 2:\n",
    "            dp.append(2)\n",
    "        else:\n",
    "            dp.append(dp[i-1] + dp[i-2])\n",
    "    return dp\n",
    "\n",
    "print(fabonacci_series_length_n(20))"
   ]
  },
  {
   "cell_type": "code",
   "execution_count": 18,
   "id": "3714489c-3e9f-4a62-a36c-05a0180b0d9d",
   "metadata": {},
   "outputs": [
    {
     "name": "stdout",
     "output_type": "stream",
     "text": [
      "[[1], [1, 1], [1, 2, 1], [1, 3, 3, 1], [1, 4, 6, 4, 1]]\n",
      "[1, 3, 3, 1]\n"
     ]
    }
   ],
   "source": [
    "# Pascal's Triangle \n",
    "'''\n",
    "Given an integer numRows, return the first numRows of Pascal's triangle.\n",
    "\n",
    "In Pascal's triangle, each number is the sum of the two numbers directly above it as shown:\n",
    "            1\n",
    "           1 1\n",
    "          1 2 1\n",
    "         1 3 3 1\n",
    "        1 4 6 4 1\n",
    "\n",
    "1 <= numRows <= 30\n",
    "'''\n",
    "def pascals_triangle(num_rows):\n",
    "    dp = []\n",
    "    for i in range(num_rows):\n",
    "        if i == 0 :\n",
    "            dp.append([1])\n",
    "        elif i == 1:\n",
    "            dp.append([1, 1])\n",
    "        else:\n",
    "            temp = []\n",
    "            for j in range(i+1):\n",
    "                if j == 0 or j == i:\n",
    "                    temp.append(1)\n",
    "                else:\n",
    "                    temp.append(dp[i-1][j-1] + dp[i-1][j])\n",
    "            dp.append(temp)\n",
    "    return dp\n",
    "\n",
    "print(pascals_triangle(5))\n",
    "\n",
    "\n",
    "'''\n",
    "Given an integer rowIndex, return the rowIndexth (0-indexed) row of the Pascal's triangle.\n",
    "\n",
    "In Pascal's triangle, each number is the sum of the two numbers directly above it as shown:\n",
    "'''\n",
    "\n",
    "def pascals_triangle_2(row_index):\n",
    "    dp = []\n",
    "    for i in range(row_index+1):\n",
    "        if i == 0 :\n",
    "            dp.append([1])\n",
    "        elif i == 1:\n",
    "            dp.append([1, 1])\n",
    "        else:\n",
    "            temp = []\n",
    "            for j in range(i+1):\n",
    "                if j == 0 or j == i:\n",
    "                    temp.append(1)\n",
    "                else:\n",
    "                    temp.append(dp[i-1][j-1] + dp[i-1][j])\n",
    "            dp.append(temp)\n",
    "    return dp[row_index]\n",
    "\n",
    "print(pascals_triangle_2(3))"
   ]
  },
  {
   "cell_type": "code",
   "execution_count": 23,
   "id": "48ecd9e0-6445-461e-a66f-fda7e52014ae",
   "metadata": {},
   "outputs": [
    {
     "name": "stdout",
     "output_type": "stream",
     "text": [
      "5\n"
     ]
    }
   ],
   "source": [
    "'''\n",
    "You are given an array prices where prices[i] is the price of a given stock on the ith day.\n",
    "\n",
    "You want to maximize your profit by choosing a single day to buy one stock and choosing a different day in the future to sell that stock.\n",
    "\n",
    "Return the maximum profit you can achieve from this transaction. If you cannot achieve any profit, return 0.\n",
    "'''\n",
    "\n",
    "def maxProfit(prices):\n",
    "    profit = 0\n",
    "    if len(prices):\n",
    "        stack = []\n",
    "        stack.append(prices[0])\n",
    "        for i in range(1, len(prices)):\n",
    "            if prices[i] < stack[-1]:\n",
    "                stack.append(prices[i])\n",
    "            else:\n",
    "                if profit < (prices[i] - stack[-1]):\n",
    "                    profit = (prices[i] - stack[-1])\n",
    "    return profit\n",
    "\n",
    "print(maxProfit([7,1,5,3,6,4]))\n"
   ]
  },
  {
   "cell_type": "code",
   "execution_count": 26,
   "id": "60f946d0-22d3-43e7-85a1-b92eae269b13",
   "metadata": {},
   "outputs": [
    {
     "name": "stdout",
     "output_type": "stream",
     "text": [
      "6\n"
     ]
    }
   ],
   "source": [
    "'''\n",
    "You are given an integer array cost where cost[i] is the cost of ith step on a staircase. Once you pay the cost, you can either climb one or two steps.\n",
    "\n",
    "You can either start from the step with index 0, or the step with index 1.\n",
    "\n",
    "Return the minimum cost to reach the top of the floor.\n",
    "'''\n",
    "def minCostClimbingStairs(cost):\n",
    "    cost.append(0)\n",
    "    dp = [None for _ in range(len(cost))]\n",
    "    dp[0] = cost[0]\n",
    "    dp[1] = cost[1]\n",
    "    for i in range(2, len(cost)):\n",
    "        dp[i] = min(dp[i-1] + cost[i], dp[i-2] + cost[i])\n",
    "    return dp[-1]\n",
    "\n",
    "print(minCostClimbingStairs([1,100,1,1,1,100,1,1,100,1]))"
   ]
  },
  {
   "cell_type": "code",
   "execution_count": 35,
   "id": "89c77d10-a480-49d3-bc7c-e50d1c594625",
   "metadata": {},
   "outputs": [
    {
     "name": "stdout",
     "output_type": "stream",
     "text": [
      "1389537\n",
      "1389537\n"
     ]
    }
   ],
   "source": [
    "'''\n",
    "The Tribonacci sequence Tn is defined as follows: \n",
    "\n",
    "T0 = 0, T1 = 1, T2 = 1, and Tn+3 = Tn + Tn+1 + Tn+2 for n >= 0.\n",
    "\n",
    "Given n, return the value of Tn.\n",
    "\n",
    "'''\n",
    "\n",
    "def tribonacci_recursive(n):\n",
    "    if n == 0:\n",
    "        return 0\n",
    "    if n == 1:\n",
    "        return 1\n",
    "    if n == 2:\n",
    "        return 1\n",
    "    return tribonacci_recursive(n-1) + tribonacci_recursive(n-2) + tribonacci_recursive(n-3)\n",
    "\n",
    "print(tribonacci_recursive(25))\n",
    "\n",
    "def tribonacci_iterative(n):\n",
    "    dp = []\n",
    "    for i in range(n+1):\n",
    "        if i == 0:\n",
    "            dp.append(0)\n",
    "        elif i == 1:\n",
    "            dp.append(1)\n",
    "        elif i == 2:\n",
    "            dp.append(1)\n",
    "        else:\n",
    "            dp.append(dp[i-1] + dp[i-2] + dp[i-3])\n",
    "    return dp[-1]\n",
    "\n",
    "print(tribonacci_iterative(25))"
   ]
  },
  {
   "cell_type": "code",
   "execution_count": 38,
   "id": "898a27ae-d6e5-4241-84ab-951787d7d727",
   "metadata": {},
   "outputs": [
    {
     "name": "stdout",
     "output_type": "stream",
     "text": [
      "7\n"
     ]
    }
   ],
   "source": [
    "'''\n",
    "Maximum value contiguous subsequence : \n",
    "Given an array on n positives and negatives numbers, give an algorithm for finding a contiguous subsequence for which the sum of elements is maximum.\n",
    "eg : \n",
    "arr = [-2, 11, -4, 13, -5, 2] o/p = 20\n",
    "arr = [1, -3, 4, -2, -1, 6] o/p = 7\n",
    "'''\n",
    "def max_sum_contiguous_subsequence(arr):\n",
    "    if len(arr) > 0:\n",
    "        dp = [None for _ in range(len(arr))]\n",
    "        dp[0] = arr[0]\n",
    "        for i in range(1, len(arr)):\n",
    "            dp[i] = max(dp[i-1]+arr[i], arr[i])\n",
    "        return max(dp)\n",
    "\n",
    "print(max_sum_contiguous_subsequence([1, -3, 4, -2, -1, 6]))"
   ]
  },
  {
   "cell_type": "code",
   "execution_count": 44,
   "id": "6d5c5f86-14c9-41ef-b8dd-d210b33e4754",
   "metadata": {},
   "outputs": [
    {
     "name": "stdout",
     "output_type": "stream",
     "text": [
      "30\n"
     ]
    }
   ],
   "source": [
    "'''\n",
    "Maximum value with no 2 contiguous elements : \n",
    "Given an array on n positives and negatives numbers, give an algorithm for finding a contiguous subsequence for which the sum of elements is maximum.\n",
    "eg : \n",
    "arr = [-2, 11, -4, 13, -5, 2] o/p = \n",
    "arr = [1, -3, 4, -2, -1, 6] o/p = \n",
    "arr = [-2, 11, 13, 1, -4, 15, -5, 2] o/p = \n",
    "'''\n",
    "\n",
    "def max_sum_with_no_2_continuous_numbers(arr):\n",
    "    if len(arr) > 0:\n",
    "        dp = [None for _ in range(len(arr))]\n",
    "        dp[0] = arr[0]\n",
    "        dp[1] = max(arr[0], arr[1])\n",
    "        for i in range(2, len(arr)):\n",
    "            dp[i] = max(dp[i-1], dp[i-2]+arr[i], arr[i])\n",
    "        return max(dp)\n",
    "\n",
    "print(max_sum_with_no_continuous_numbers([-2, 11, 13, 1, -4, 15, -5, 2]))"
   ]
  },
  {
   "cell_type": "code",
   "execution_count": 50,
   "id": "aa71abf1-80e7-4207-b16b-6691524636be",
   "metadata": {},
   "outputs": [
    {
     "name": "stdout",
     "output_type": "stream",
     "text": [
      "False\n"
     ]
    }
   ],
   "source": [
    "'''\n",
    "JUMP GAME : \n",
    "You are given an integer array nums. You are initially positioned at the array's first index, and each element in the array represents your maximum jump length at that position.\n",
    "\n",
    "Return true if you can reach the last index, or false otherwise.\n",
    "\n",
    "Example 1:\n",
    "\n",
    "Input: nums = [2,3,1,1,4]\n",
    "Output: true\n",
    "Explanation: Jump 1 step from index 0 to 1, then 3 steps to the last index.\n",
    "Example 2:\n",
    "\n",
    "Input: nums = [3,2,1,0,4]\n",
    "Output: false\n",
    "Explanation: You will always arrive at index 3 no matter what. Its maximum jump length is 0, which makes it impossible to reach the last index.\n",
    "\n",
    "Constraints:\n",
    "\n",
    "1 <= nums.length <= 104\n",
    "0 <= nums[i] <= 105\n",
    "'''\n",
    "\n",
    "def canjump(arr):\n",
    "    if len(arr) == 1:\n",
    "        return True\n",
    "    if arr[0] == 0:\n",
    "        return False\n",
    "    dp = [None for _ in range(len(arr))]\n",
    "    dp[0] = arr[0]\n",
    "    for i in range(1, len(arr)):\n",
    "        dp[i] = max(arr[i], dp[i-1]-1)\n",
    "        if dp[i] == 0 and i != len(arr)-1:\n",
    "            return False\n",
    "    return True\n",
    "\n",
    "print(canjump([3,2,1,0,4]))"
   ]
  },
  {
   "cell_type": "code",
   "execution_count": null,
   "id": "be4dc41d-825a-4135-a126-ee19de0fc5e3",
   "metadata": {},
   "outputs": [],
   "source": [
    "'''\n",
    "HOUSE ROBBER : \n",
    "You are a professional robber planning to rob houses along a street. \n",
    "Each house has a certain amount of money stashed, the only constraint stopping you from robbing each of them is that adjacent houses have \n",
    "security systems connected and it will automatically contact the police if two adjacent houses were broken into on the same night.\n",
    "\n",
    "Given an integer array nums representing the amount of money of each house, return the maximum amount of money you can rob tonight without \n",
    "alerting the police.\n",
    "\n",
    "Example 1:\n",
    "\n",
    "Input: nums = [1,2,3,1]\n",
    "Output: 4\n",
    "Explanation: Rob house 1 (money = 1) and then rob house 3 (money = 3).\n",
    "Total amount you can rob = 1 + 3 = 4.\n",
    "'''\n",
    "\n",
    "def rob(self, nums: List[int]) -> int:\n",
    "        if len(nums) == 1:\n",
    "            return nums[0]\n",
    "        \n",
    "        dp = [0 for _ in range(len(nums))]\n",
    "        dp[0] = nums[0]\n",
    "        dp[1] = max(nums[0],nums[1])\n",
    "        for index in range(2, len(nums)):\n",
    "            dp[index] = max((nums[index] + dp[index-2]), dp[index-1])\n",
    "        return max(dp)"
   ]
  },
  {
   "cell_type": "code",
   "execution_count": null,
   "id": "ff54a447-64bd-40ec-9a86-7e3c145e250e",
   "metadata": {},
   "outputs": [],
   "source": [
    "'''\n",
    "HOUSE ROBER 2:\n",
    "\n",
    "'''"
   ]
  },
  {
   "cell_type": "code",
   "execution_count": null,
   "id": "4ead013a-8a9d-4331-ba77-714543a6ec39",
   "metadata": {},
   "outputs": [],
   "source": [
    "'''\n",
    "MAXIMUM PRODUCT SUBARRAY: \n",
    "\n",
    "'''"
   ]
  },
  {
   "cell_type": "markdown",
   "id": "1a3a91d6-c4cb-4288-9e86-1ee0cc028e41",
   "metadata": {},
   "source": [
    "# Matrix DP Problems"
   ]
  },
  {
   "cell_type": "code",
   "execution_count": null,
   "id": "4b059cae-8a6a-4925-81a5-2fc80eeaf973",
   "metadata": {},
   "outputs": [],
   "source": [
    "'''\n",
    "UNIQUE PATHS : \n",
    "There is a robot on an m x n grid. The robot is initially located at the top-left corner (i.e., grid[0][0]). \n",
    "The robot tries to move to the bottom-right corner (i.e., grid[m - 1][n - 1]). \n",
    "The robot can only move either down or right at any point in time.\n",
    "\n",
    "Given the two integers m and n, return the number of possible unique paths that the robot can take to reach the bottom-right corner.\n",
    "\n",
    "'''\n",
    "\n",
    "def uniquePaths(m, n):\n",
    "    dp = [[None for _ in range(n)] for _ in range(m)]\n",
    "    for i in range(m):\n",
    "        for j in range(n):\n",
    "            if i==0 or j==0:\n",
    "                dp[i][j] = 1\n",
    "            else:\n",
    "                dp[i][j] = dp[i-1][j] + dp[i][j-1]\n",
    "    return dp[-1][-1]"
   ]
  },
  {
   "cell_type": "code",
   "execution_count": null,
   "id": "9e37560b-f943-4bb3-8b5d-fb3dc61d642f",
   "metadata": {},
   "outputs": [],
   "source": [
    "'''\n",
    "UNIQUE PATH 2 :\n",
    "You are given an m x n integer array grid. There is a robot initially located at the top-left corner (i.e., grid[0][0]). \n",
    "The robot tries to move to the bottom-right corner (i.e., grid[m - 1][n - 1]). \n",
    "The robot can only move either down or right at any point in time.\n",
    "\n",
    "An obstacle and space are marked as 1 or 0 respectively in grid. A path that the robot takes cannot include any square that is an obstacle.\n",
    "\n",
    "Return the number of possible unique paths that the robot can take to reach the bottom-right corner.\n",
    "'''\n",
    "\n",
    "def uniquePathsWithObstacles(obstacleGrid):\n",
    "    dp = [[None for _ in range(len(obstacleGrid[0]))] for _ in range(len(obstacleGrid))]\n",
    "    if obstacleGrid[0][0] == 1:\n",
    "        return 0\n",
    "    dp[0][0] = 1\n",
    "    #Initialise the table:\n",
    "    for i in range(1, len(obstacleGrid)):\n",
    "        if obstacleGrid[i][0] == 1:\n",
    "            dp[i][0] = 0\n",
    "        else:\n",
    "            dp[i][0] = dp[i-1][0]\n",
    "    for j in range(1, len(obstacleGrid[0])):\n",
    "        if obstacleGrid[0][j] == 1:\n",
    "            dp[0][j] = 0\n",
    "        else:\n",
    "            dp[0][j] = dp[0][j-1]\n",
    "    for i in range(1, len(obstacleGrid)):\n",
    "        for j in range(1, len(obstacleGrid[0])):\n",
    "            if obstacleGrid[i][j] == 1:\n",
    "                dp[i][j] = 0\n",
    "            else:\n",
    "                dp[i][j] = dp[i-1][j] + dp[i][j-1]\n",
    "    return dp[-1][-1]"
   ]
  },
  {
   "cell_type": "code",
   "execution_count": null,
   "id": "77b5d4eb-b542-4905-b6d0-7c7f07d2153c",
   "metadata": {},
   "outputs": [],
   "source": [
    "'''\n",
    "MINIMUM PATH SUM\n",
    "Given a m x n grid filled with non-negative numbers, find a path from top left to bottom right, which minimizes the sum of all numbers along its path.\n",
    "\n",
    "Note: You can only move either down or right at any point in time.\n",
    "\n",
    "Input: grid = [[1,3,1],[1,5,1],[4,2,1]]\n",
    "Output: 7\n",
    "Explanation: Because the path 1 → 3 → 1 → 1 → 1 minimizes the sum.\n",
    "\n",
    "'''\n",
    "def minPathSum(grid):\n",
    "    rows = len(grid)\n",
    "    cols = len(grid[0])\n",
    "\n",
    "    dp = [[0 for _ in range(cols)] for _ in range(rows)]\n",
    "    for r in range(rows):\n",
    "        for c in range(cols):\n",
    "            if r == 0 and c == 0:\n",
    "                dp[r][c] = grid[r][c]\n",
    "            elif (r == 0):\n",
    "                dp[r][c] = grid[r][c] + dp[r][c-1]\n",
    "            elif (c == 0):\n",
    "                dp[r][c] = grid[r][c] + dp[r-1][c]\n",
    "            else : \n",
    "                dp[r][c] = grid[r][c] + min(dp[r-1][c], dp[r][c-1])\n",
    "    return dp[-1][-1]"
   ]
  },
  {
   "cell_type": "code",
   "execution_count": null,
   "id": "a3ac8135-d550-413e-9689-bf32768bc359",
   "metadata": {},
   "outputs": [],
   "source": [
    "'''\n",
    "TRAINGLE : \n",
    "\n",
    "Given a triangle array, return the minimum path sum from top to bottom.\n",
    "\n",
    "For each step, you may move to an adjacent number of the row below. More formally, if you are on index i on the current row, you may move to either index i or index i + 1 on the next row.\n",
    "\n",
    " \n",
    "\n",
    "Example 1:\n",
    "\n",
    "Input: triangle = [[2],[3,4],[6,5,7],[4,1,8,3]]\n",
    "Output: 11\n",
    "Explanation: The triangle looks like:\n",
    "   2\n",
    "  3 4\n",
    " 6 5 7\n",
    "4 1 8 3\n",
    "The minimum path sum from top to bottom is 2 + 3 + 5 + 1 = 11 (underlined above).\n",
    "'''\n",
    "\n",
    "def minimumTotal(triangle):\n",
    "    dp = []\n",
    "    for index in range(len(triangle)):\n",
    "        dp.append([0 for _ in range(index+1)])\n",
    "    dp[0] = triangle[0]\n",
    "    for r in range(1, len(triangle)):\n",
    "        for c in range(r+1):\n",
    "            if c == 0:\n",
    "                dp[r][c] = triangle[r][c] + dp[r-1][0]\n",
    "            elif c == r : \n",
    "                dp[r][c] = triangle[r][c] + dp[r-1][-1]\n",
    "            else:\n",
    "                dp[r][c] = triangle[r][c] + min(dp[r-1][c-1], dp[r-1][c])\n",
    "    return min(dp[-1])"
   ]
  },
  {
   "cell_type": "code",
   "execution_count": null,
   "id": "27fb397d-bba4-4aed-990a-e2e7f0c606a1",
   "metadata": {},
   "outputs": [],
   "source": [
    "'''\n",
    "MINIMUM FALLING PATH SUM\n",
    "Given an n x n array of integers matrix, return the minimum sum of any falling path through matrix.\n",
    "\n",
    "A falling path starts at any element in the first row and chooses the element in the next row that is either directly below or diagonally left/right. \n",
    "Specifically, the next element from position (row, col) will be (row + 1, col - 1), (row + 1, col), or (row + 1, col + 1).\n",
    "\n",
    "'''\n",
    "\n"
   ]
  },
  {
   "cell_type": "markdown",
   "id": "9cb56e40-8d0b-4133-8908-ce09ebca3c8d",
   "metadata": {},
   "source": [
    "# Knapsack \n",
    "1. 0/1 Knapsack\n",
    "2. Integer Knapsack\n",
    "\n",
    "# Coin Denominations"
   ]
  },
  {
   "cell_type": "code",
   "execution_count": 46,
   "id": "3987da57-32b9-404d-83aa-f76fb2a89a95",
   "metadata": {},
   "outputs": [
    {
     "name": "stdout",
     "output_type": "stream",
     "text": [
      "6\n"
     ]
    }
   ],
   "source": [
    "# Longest increasing subsequence (LIS):\n",
    "'''\n",
    "Given a sequence on numbers A1...An, determine a susequence of maximum length having strictly increasing sequence.\n",
    "\n",
    "ex : arr [5,6,2,3,4,1,9,9,8,9,5] -> o/p = 5 (2,3,4,8,9)\n",
    "'''\n",
    "\n",
    "def longest_increasing_subsequence(arr):\n",
    "    if len(arr) > 0:\n",
    "        dp = [1 for _ in range(len(arr))]\n",
    "        for i in range(1, len(arr)):\n",
    "            for j in range(i):\n",
    "                if arr[i] > arr[j]:\n",
    "                    dp[i] = max(dp[j]+1, dp[i])\n",
    "        return max(dp)\n",
    "\n",
    "\n",
    "print(longest_increasing_subsequence([5,6,2,3,4,1,7,9,8,9,5]))"
   ]
  },
  {
   "cell_type": "code",
   "execution_count": 47,
   "id": "76d52b9f-2921-455e-b620-511eb5d242bc",
   "metadata": {},
   "outputs": [
    {
     "name": "stdout",
     "output_type": "stream",
     "text": [
      "132\n"
     ]
    }
   ],
   "source": [
    "def catalan_number(n):\n",
    "    if n == 0 or n == 1:\n",
    "        return 1\n",
    "    res = 0\n",
    "    for i in range(n):\n",
    "        res += catalan_number(i) * catalan_number(n-i-1)\n",
    "    return res\n",
    "\n",
    "\n",
    "def catalan_number_dp(n):\n",
    "    cn = []\n",
    "    cn.append(1)\n",
    "    cn.append(1)\n",
    "\n",
    "    while len(cn) != n:\n",
    "        next_num = 0\n",
    "        for ind in range(len(cn)):\n",
    "            next_num += cn[ind] * cn[len(cn) - ind - 1]\n",
    "        cn.append(next_num)\n",
    "    return cn[-1]\n",
    "\n",
    "\n",
    "\n",
    "\n",
    "if __name__==\"__main__\":\n",
    "    result = catalan_number_dp(1)\n",
    "    print(result)"
   ]
  },
  {
   "cell_type": "code",
   "execution_count": null,
   "id": "1202f039-d63c-4ca9-bbec-38018e62cab3",
   "metadata": {},
   "outputs": [],
   "source": [
    "# Matrix dp problems: \n",
    "'''\n",
    "Given a gold mine of n*m dimensions. Each field in this mine contains a positive integer which is the amount of gold in tons. \n",
    "Initially the miner is at first column but can be at any row. He can move only (right->,right up /,right down\\) \n",
    "that is from a given cell, the miner can move to the cell diagonally up towards the right or right or diagonally down towards the right. Find out maximum amount of gold he can collect.\n",
    "\n",
    "Input : mat[][] = {{1, 3, 3},\n",
    "                   {2, 1, 4},\n",
    "                  {0, 6, 4}};\n",
    "Output : 12\n",
    "{(1,0)->(2,1)->(1,2)}\n",
    "'''\n",
    "\n"
   ]
  },
  {
   "cell_type": "code",
   "execution_count": null,
   "id": "27e87873-eb3b-4d20-ba96-75e2cc011349",
   "metadata": {},
   "outputs": [],
   "source": []
  }
 ],
 "metadata": {
  "kernelspec": {
   "display_name": "Python 3 (ipykernel)",
   "language": "python",
   "name": "python3"
  },
  "language_info": {
   "codemirror_mode": {
    "name": "ipython",
    "version": 3
   },
   "file_extension": ".py",
   "mimetype": "text/x-python",
   "name": "python",
   "nbconvert_exporter": "python",
   "pygments_lexer": "ipython3",
   "version": "3.9.6"
  }
 },
 "nbformat": 4,
 "nbformat_minor": 5
}
