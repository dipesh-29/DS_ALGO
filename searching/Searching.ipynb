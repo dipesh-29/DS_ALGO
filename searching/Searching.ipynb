{
 "cells": [
  {
   "cell_type": "code",
   "execution_count": 2,
   "id": "7b533b85-3efe-413d-a925-c33aab682f49",
   "metadata": {},
   "outputs": [
    {
     "name": "stdout",
     "output_type": "stream",
     "text": [
      "[-80, 85]\n"
     ]
    }
   ],
   "source": [
    "# two numbers with sum closes to 0\n",
    "# 1. Brute Force\n",
    "def sum_closest_to_zero(arr):\n",
    "    min_count = 1000000\n",
    "    result = [None, None]\n",
    "    for i in range(len(arr)):\n",
    "        for j in range(i +1, len(arr)):\n",
    "            diff = abs(arr[i] + arr[j])\n",
    "            if min_count > diff:\n",
    "                min_count = diff\n",
    "                result[0] = arr[i]\n",
    "                result[1] = arr[j]\n",
    "    return result\n",
    "\n",
    "arr = [1, 60, -10, 70, -80, 85]\n",
    "result = sum_closest_to_zero(arr)\n",
    "print(result)"
   ]
  },
  {
   "cell_type": "code",
   "execution_count": 7,
   "id": "95cb3f63-ff00-4606-980f-45c8c71ef1f6",
   "metadata": {},
   "outputs": [
    {
     "name": "stdout",
     "output_type": "stream",
     "text": [
      "(1, 3, 5)\n"
     ]
    }
   ],
   "source": [
    "# Three numbers with sum equals to target. \n",
    "\n",
    "def three_sum_to_target(arr, target):\n",
    "    arr.sort()\n",
    "    for i in range(len(arr)):\n",
    "        j = i+1\n",
    "        k = len(arr) - 1\n",
    "        while j < k:\n",
    "            if arr[i] + arr[j] + arr[k] == target:\n",
    "                return arr[i] , arr[j] , arr[k]\n",
    "            elif arr[i] + arr[j] + arr[k] > target:\n",
    "                k -= 1\n",
    "            else:\n",
    "                j += 1\n",
    "    return -1, -1, -1\n",
    "\n",
    "arr = [3,4,1,7,8,6,9,5]\n",
    "print(three_sum_to_target(arr, 9))"
   ]
  },
  {
   "cell_type": "code",
   "execution_count": 16,
   "id": "b9723fe4-10bc-4384-964b-a090102791a7",
   "metadata": {},
   "outputs": [
    {
     "name": "stdout",
     "output_type": "stream",
     "text": [
      "3\n"
     ]
    }
   ],
   "source": [
    "def binary_search(arr, left, right, target):\n",
    "    if left <= right:\n",
    "        mid = int((left + right)/2)\n",
    "        if arr[mid] == target:\n",
    "            return mid\n",
    "        elif arr[mid] > target:\n",
    "            res = binary_search(arr, left, mid-1, target)\n",
    "        else:\n",
    "            res = binary_search(arr, mid+1, right, target)\n",
    "        return res\n",
    "\n",
    "arr = [2,4,5,7,8,10,12,17,23,29]\n",
    "print(binary_search(arr, 0, len(arr)-1, 7))"
   ]
  },
  {
   "cell_type": "code",
   "execution_count": 19,
   "id": "66b2d1ad-37a9-46b8-aac1-d238d3fb97bb",
   "metadata": {},
   "outputs": [
    {
     "name": "stdout",
     "output_type": "stream",
     "text": [
      "12\n"
     ]
    }
   ],
   "source": [
    "def binary_search_for_inc_dec(arr, left, right):\n",
    "    if left <= right:\n",
    "        mid = int((left + right) / 2)\n",
    "        if arr[mid] >= arr[mid-1] and arr[mid] > arr[mid+1]:\n",
    "            return mid\n",
    "        elif arr[mid] >= arr[mid-1] and arr[mid] <= arr[mid+1]:\n",
    "            res = binary_search_for_inc_dec(arr, mid+1, right)\n",
    "        else:\n",
    "            res = binary_search_for_inc_dec(arr, left, mid-1)\n",
    "        return res\n",
    "\n",
    "arr = [2,4,5,7,8,10,11,11,12,12,12,15,15,11,10,9,7,6,3]\n",
    "print(binary_search_for_inc_dec(arr, 0, len(arr)-1))"
   ]
  },
  {
   "cell_type": "code",
   "execution_count": 50,
   "id": "52230ab2-74ca-44a1-94c8-13b1c170f396",
   "metadata": {},
   "outputs": [
    {
     "name": "stdout",
     "output_type": "stream",
     "text": [
      "12\n"
     ]
    }
   ],
   "source": [
    "def binary_search_for_rotated_array(arr, left, right, target):\n",
    "    if left <= right:\n",
    "        mid = left + (right - left) // 2\n",
    "        if arr[mid] == target:\n",
    "            return mid\n",
    "        if arr[left] < arr[mid]:\n",
    "            if target >= arr[left] and target <= arr[mid]:\n",
    "                res = binary_search_for_rotated_array(arr, left, mid-1, target)\n",
    "            else:\n",
    "                res = binary_search_for_rotated_array(arr, mid+1, right, target)\n",
    "        else:\n",
    "            if target >= arr[mid] and target <= arr[right]:\n",
    "                res = binary_search_for_rotated_array(arr, mid+1, right, target)\n",
    "            else:\n",
    "                res = binary_search_for_rotated_array(arr, left, mid-1, target)\n",
    "        return res\n",
    "\n",
    "arr = [34,42,50,57,63,2,4,5,7,8,10,12,17,23,29]\n",
    "print(binary_search_for_rotated_array(arr, 0, len(arr)-1, 17))"
   ]
  },
  {
   "cell_type": "code",
   "execution_count": 63,
   "id": "3187789e-e6df-4053-ac22-f0597c692db4",
   "metadata": {},
   "outputs": [
    {
     "name": "stdout",
     "output_type": "stream",
     "text": [
      "0 25 12\n",
      "13 25 19\n",
      "20 25 22\n",
      "23 25 24\n",
      "25 25 25\n",
      "25\n"
     ]
    }
   ],
   "source": [
    "def binary_search_first_occurence(arr, left, right, target):\n",
    "    if left <= right:\n",
    "        mid = int((left+right)/2)\n",
    "        print(left, right, mid)\n",
    "        if (arr[mid] == target and mid == 0) or (arr[mid] == target and arr[mid] != arr[mid-1]):\n",
    "            return mid\n",
    "        if arr[mid] >= target:\n",
    "            res = binary_search_first_occurence(arr, left, mid-1, target)\n",
    "        else:\n",
    "            res = binary_search_first_occurence(arr, mid+1, right, target)\n",
    "        return res\n",
    "        \n",
    "arr = [2,4,4,4,5,5,7,7,7,7,8,9,9,9,10,10,10,10,10,10,12,12,17,17,23,29]\n",
    "print(binary_search_first_occurence(arr, 0, len(arr)-1, 29))"
   ]
  },
  {
   "cell_type": "code",
   "execution_count": null,
   "id": "93c61790-5ea4-4484-8098-4f747156547b",
   "metadata": {},
   "outputs": [],
   "source": []
  }
 ],
 "metadata": {
  "kernelspec": {
   "display_name": "Python 3 (ipykernel)",
   "language": "python",
   "name": "python3"
  },
  "language_info": {
   "codemirror_mode": {
    "name": "ipython",
    "version": 3
   },
   "file_extension": ".py",
   "mimetype": "text/x-python",
   "name": "python",
   "nbconvert_exporter": "python",
   "pygments_lexer": "ipython3",
   "version": "3.9.6"
  }
 },
 "nbformat": 4,
 "nbformat_minor": 5
}
